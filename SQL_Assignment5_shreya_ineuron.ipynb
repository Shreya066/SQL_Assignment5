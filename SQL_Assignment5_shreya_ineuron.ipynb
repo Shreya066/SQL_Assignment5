{
 "cells": [
  {
   "cell_type": "markdown",
   "id": "4c89093f",
   "metadata": {},
   "source": [
    "**Q-1. Write an SQL query to print details of workers excluding first names, “Vipul” and “Satish” from Worker table.**"
   ]
  },
  {
   "cell_type": "markdown",
   "id": "c3c70e9f",
   "metadata": {},
   "source": [
    "Select * from Worker where FIRST_NAME not in ('Vipul' , 'Satish');"
   ]
  },
  {
   "cell_type": "markdown",
   "id": "008ffb01",
   "metadata": {},
   "source": [
    "**Q-2. Write an SQL query to print details of the Workers whose FIRST_NAME ends with ‘h’ and contains six alphabets.**"
   ]
  },
  {
   "cell_type": "markdown",
   "id": "329fb7ed",
   "metadata": {},
   "source": [
    "Select * from Worker where FIRST_NAME like '_ \\_ \\_ \\_ \\_ h'"
   ]
  },
  {
   "cell_type": "markdown",
   "id": "b0057c89",
   "metadata": {},
   "source": [
    "**Q-3. Write a query to validate Email of Employee.**"
   ]
  },
  {
   "cell_type": "markdown",
   "id": "f5e41aa9",
   "metadata": {},
   "source": [
    "Select * from Worker where email like \"\\_  %@  \\_  % . \\_  % \""
   ]
  }
 ],
 "metadata": {
  "kernelspec": {
   "display_name": "Python 3 (ipykernel)",
   "language": "python",
   "name": "python3"
  },
  "language_info": {
   "codemirror_mode": {
    "name": "ipython",
    "version": 3
   },
   "file_extension": ".py",
   "mimetype": "text/x-python",
   "name": "python",
   "nbconvert_exporter": "python",
   "pygments_lexer": "ipython3",
   "version": "3.9.7"
  }
 },
 "nbformat": 4,
 "nbformat_minor": 5
}
