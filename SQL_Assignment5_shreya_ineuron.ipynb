{
 "cells": [
  {
   "cell_type": "markdown",
   "id": "9b7a1e4e",
   "metadata": {},
   "source": [
    "**Q-1. Write an SQL query to print details of workers excluding first names, “Vipul” and “Satish” from Worker table.**"
   ]
  },
  {
   "cell_type": "markdown",
   "id": "7f7467ff",
   "metadata": {},
   "source": [
    "Select * from Worker where FIRST_NAME not in ('Vipul' , 'Satish');"
   ]
  },
  {
   "cell_type": "markdown",
   "id": "b5db3eaa",
   "metadata": {},
   "source": [
    "**Q-2. Write an SQL query to print details of the Workers whose FIRST_NAME ends with ‘h’ and contains six alphabets.**"
   ]
  },
  {
   "cell_type": "markdown",
   "id": "54f8d06f",
   "metadata": {},
   "source": [
    "Select * from Worker where FIRST_NAME like '_____h'"
   ]
  },
  {
   "cell_type": "markdown",
   "id": "eaef4d9b",
   "metadata": {},
   "source": [
    "**Q-3. Write a query to validate Email of Employee.**"
   ]
  },
  {
   "cell_type": "markdown",
   "id": "ba507804",
   "metadata": {},
   "source": [
    "Select * from Worker where email like \"_ %@ _ % . _ % \""
   ]
  }
 ],
 "metadata": {
  "kernelspec": {
   "display_name": "Python 3 (ipykernel)",
   "language": "python",
   "name": "python3"
  },
  "language_info": {
   "codemirror_mode": {
    "name": "ipython",
    "version": 3
   },
   "file_extension": ".py",
   "mimetype": "text/x-python",
   "name": "python",
   "nbconvert_exporter": "python",
   "pygments_lexer": "ipython3",
   "version": "3.9.7"
  }
 },
 "nbformat": 4,
 "nbformat_minor": 5
}
